{
 "cells": [
  {
   "cell_type": "code",
   "execution_count": 2,
   "id": "5f854b8a",
   "metadata": {},
   "outputs": [],
   "source": [
    "fw = open(\"new.txt\", \"w\") # w : write 모드로 열어줌\n",
    "\n",
    "for i in range(1,6):\n",
    "    data = \"%d line\\n\" %i\n",
    "    fw.write(data) # write로 작성하기\n",
    "\n",
    "fw.close() # close로 닫아주기 (안닫아주면 앞에 했던게 적용이 안됨)"
   ]
  },
  {
   "cell_type": "code",
   "execution_count": 3,
   "id": "eca4f224",
   "metadata": {},
   "outputs": [],
   "source": [
    "fw = open(\"new.txt\", \"a\") # a : append 모드로 열어줌 (기존의 값에 추가해줌)\n",
    "\n",
    "for i in range(11,16):\n",
    "    data = \"%d line\\n\" %i\n",
    "    fw.write(data) # write로 작성하기\n",
    "\n",
    "fw.close() # close로 닫아주기 (안닫아주면 앞에 했던게 적용이 안됨)"
   ]
  },
  {
   "cell_type": "code",
   "execution_count": 4,
   "id": "b781951d",
   "metadata": {},
   "outputs": [],
   "source": [
    "with open(\"new.txt\", \"w\") as fw:  # 파일이 오픈된 채로 작업 (close 해줄 필요없음)\n",
    "    for i in range(16,20):\n",
    "        data = \"%d line\\n\" %i\n",
    "        fw.write(data) # write로 작성하기"
   ]
  },
  {
   "cell_type": "code",
   "execution_count": 5,
   "id": "bc16ad3a",
   "metadata": {},
   "outputs": [],
   "source": [
    "fr = open(\"new.txt\", \"r\") # r: read 모드로 열어줌"
   ]
  },
  {
   "cell_type": "code",
   "execution_count": 6,
   "id": "00632981",
   "metadata": {},
   "outputs": [
    {
     "data": {
      "text/plain": [
       "'16 line\\n'"
      ]
     },
     "execution_count": 6,
     "metadata": {},
     "output_type": "execute_result"
    }
   ],
   "source": [
    "line = fr.readline()  #  줄 단위로 읽어들임 \n",
    "line "
   ]
  },
  {
   "cell_type": "code",
   "execution_count": 7,
   "id": "7836dd7a",
   "metadata": {},
   "outputs": [
    {
     "data": {
      "text/plain": [
       "8"
      ]
     },
     "execution_count": 7,
     "metadata": {},
     "output_type": "execute_result"
    }
   ],
   "source": [
    "fr.tell()  # 포인터의 위치"
   ]
  },
  {
   "cell_type": "code",
   "execution_count": 8,
   "id": "7296555f",
   "metadata": {},
   "outputs": [],
   "source": [
    "fr.close()"
   ]
  },
  {
   "cell_type": "code",
   "execution_count": 37,
   "id": "91cdc2e2",
   "metadata": {},
   "outputs": [
    {
     "name": "stdout",
     "output_type": "stream",
     "text": [
      "fisrt line\n",
      "second line\n",
      "have a nice day"
     ]
    }
   ],
   "source": [
    "fr = open(\"test.txt\", \"r\")\n",
    "while True :\n",
    "    line = fr.readline()\n",
    "    if line == \"\":\n",
    "        break\n",
    "    print(line, end=\"\")\n",
    "\n",
    "fr.close()"
   ]
  },
  {
   "cell_type": "code",
   "execution_count": 23,
   "id": "a462fb34",
   "metadata": {},
   "outputs": [],
   "source": [
    "fr = open(\"new.txt\", \"r\")\n",
    "data = fr.readlines()\n",
    "fr.close()"
   ]
  },
  {
   "cell_type": "code",
   "execution_count": 9,
   "id": "cb4262f6",
   "metadata": {},
   "outputs": [
    {
     "data": {
      "text/plain": [
       "['16 line\\n', '17 line\\n', '18 line\\n', '19 line\\n']"
      ]
     },
     "execution_count": 9,
     "metadata": {},
     "output_type": "execute_result"
    }
   ],
   "source": [
    "data"
   ]
  },
  {
   "cell_type": "code",
   "execution_count": 10,
   "id": "503b2606",
   "metadata": {
    "scrolled": true
   },
   "outputs": [
    {
     "name": "stdout",
     "output_type": "stream",
     "text": [
      "16 line\n",
      "17 line\n",
      "18 line\n",
      "19 line\n"
     ]
    }
   ],
   "source": [
    "fr = open(\"new.txt\", \"r\")\n",
    "for line in fr :\n",
    "    print(line, end=\"\")\n",
    "\n",
    "fr.close()"
   ]
  },
  {
   "cell_type": "markdown",
   "id": "2b440c17",
   "metadata": {},
   "source": [
    "스플릿 함수 사용법"
   ]
  },
  {
   "cell_type": "code",
   "execution_count": 11,
   "id": "1de84be6",
   "metadata": {},
   "outputs": [
    {
     "data": {
      "text/plain": [
       "['one', 'two', 'three']"
      ]
     },
     "execution_count": 11,
     "metadata": {},
     "output_type": "execute_result"
    }
   ],
   "source": [
    "data = \"one:two:three\"  \n",
    "data.split(\":\")  # 스플릿 함수로 값을 분리할 수 있음"
   ]
  },
  {
   "cell_type": "markdown",
   "id": "de2bd4bc",
   "metadata": {},
   "source": [
    "### 실습 1"
   ]
  },
  {
   "cell_type": "code",
   "execution_count": 15,
   "id": "19687832",
   "metadata": {},
   "outputs": [
    {
     "data": {
      "text/plain": [
       "True"
      ]
     },
     "execution_count": 15,
     "metadata": {},
     "output_type": "execute_result"
    }
   ],
   "source": [
    "import os\n",
    "os.path.exists(\"newnew.txt\") # 파일이 있는지 없는지 확인\n",
    "# os.path.isfile()"
   ]
  },
  {
   "cell_type": "code",
   "execution_count": 51,
   "id": "f60f6432",
   "metadata": {},
   "outputs": [
    {
     "name": "stdout",
     "output_type": "stream",
     "text": [
      "Enter a file name : test.txt\n",
      "FISRT LINE\n",
      "SECOND LINE\n",
      "HAVE A NICE DAY"
     ]
    }
   ],
   "source": [
    "import os\n",
    "filename = input(\"Enter a file name : \")\n",
    "if os.path.exists(filename) == True:\n",
    "    fr = open(filename, \"r\")\n",
    "    while True :\n",
    "        line = fr.readline()\n",
    "        a = line.upper()\n",
    "        if line == \"\":\n",
    "            break\n",
    "        print(a, end=\"\")\n",
    "    fr.close()\n",
    "else:\n",
    "    print(\"파일이 존재하지 않는다\")"
   ]
  },
  {
   "cell_type": "markdown",
   "id": "354e4a2e",
   "metadata": {},
   "source": [
    "### 실습 2"
   ]
  },
  {
   "cell_type": "code",
   "execution_count": 16,
   "id": "299ebff6",
   "metadata": {},
   "outputs": [],
   "source": [
    "fr = open(\"score.txt\" , \"r\")"
   ]
  },
  {
   "cell_type": "code",
   "execution_count": 17,
   "id": "5f0e2a5f",
   "metadata": {},
   "outputs": [
    {
     "data": {
      "text/plain": [
       "'202301\\t89 78 \\n'"
      ]
     },
     "execution_count": 17,
     "metadata": {},
     "output_type": "execute_result"
    }
   ],
   "source": [
    "line = fr.readline()\n",
    "line"
   ]
  },
  {
   "cell_type": "code",
   "execution_count": 18,
   "id": "ca4affa1",
   "metadata": {},
   "outputs": [
    {
     "data": {
      "text/plain": [
       "['202301', '89', '78']"
      ]
     },
     "execution_count": 18,
     "metadata": {},
     "output_type": "execute_result"
    }
   ],
   "source": [
    "line.split() # 화이트 스페이스로 분리"
   ]
  },
  {
   "cell_type": "code",
   "execution_count": 19,
   "id": "44d85ead",
   "metadata": {},
   "outputs": [
    {
     "data": {
      "text/plain": [
       "[202301, 89, 78]"
      ]
     },
     "execution_count": 19,
     "metadata": {},
     "output_type": "execute_result"
    }
   ],
   "source": [
    "new_list = []\n",
    "for e in line.split():\n",
    "    new_list.append(int(e))\n",
    "\n",
    "new_list"
   ]
  },
  {
   "cell_type": "code",
   "execution_count": 20,
   "id": "43d3925c",
   "metadata": {},
   "outputs": [
    {
     "name": "stdout",
     "output_type": "stream",
     "text": [
      "202301 89 78\n"
     ]
    }
   ],
   "source": [
    "sid, mid, fin = new_list  # 언팩킹\n",
    "print(sid, mid, fin)"
   ]
  },
  {
   "cell_type": "code",
   "execution_count": 21,
   "id": "2b6a69f8",
   "metadata": {},
   "outputs": [
    {
     "name": "stdout",
     "output_type": "stream",
     "text": [
      "202301 89 78\n"
     ]
    }
   ],
   "source": [
    "s, m, f = [ int(e) for e in line.split() ] # 리스트 축약 \n",
    "print(s, m, f)"
   ]
  },
  {
   "cell_type": "markdown",
   "id": "38e1ce92",
   "metadata": {},
   "source": [
    "### 모듈\n"
   ]
  },
  {
   "cell_type": "code",
   "execution_count": 24,
   "id": "3ea421ed",
   "metadata": {},
   "outputs": [],
   "source": [
    "import arth"
   ]
  },
  {
   "cell_type": "code",
   "execution_count": 25,
   "id": "ebf1bc76",
   "metadata": {},
   "outputs": [
    {
     "data": {
      "text/plain": [
       "50"
      ]
     },
     "execution_count": 25,
     "metadata": {},
     "output_type": "execute_result"
    }
   ],
   "source": [
    "arth.add(20, 30)"
   ]
  },
  {
   "cell_type": "markdown",
   "id": "4f2ebc4f",
   "metadata": {},
   "source": [
    "성적 관리 프로그램\n"
   ]
  },
  {
   "cell_type": "code",
   "execution_count": 26,
   "id": "ab5dbc3c",
   "metadata": {},
   "outputs": [],
   "source": [
    "s = [[201801, 84, 73], [201802, 92, 89], [201803, 57, 62], [201804, 58, 68]]\n"
   ]
  },
  {
   "cell_type": "code",
   "execution_count": 27,
   "id": "b2337d46",
   "metadata": {},
   "outputs": [
    {
     "data": {
      "text/plain": [
       "89"
      ]
     },
     "execution_count": 27,
     "metadata": {},
     "output_type": "execute_result"
    }
   ],
   "source": [
    "s[1][2]\n"
   ]
  },
  {
   "cell_type": "code",
   "execution_count": 28,
   "id": "6bdaeb71",
   "metadata": {},
   "outputs": [
    {
     "data": {
      "text/plain": [
       "[[201802, 92, 89], [201801, 84, 73], [201804, 58, 68], [201803, 57, 62]]"
      ]
     },
     "execution_count": 28,
     "metadata": {},
     "output_type": "execute_result"
    }
   ],
   "source": [
    "s.sort(reverse=True, key=lambda a : a[1])\n",
    "s"
   ]
  },
  {
   "cell_type": "code",
   "execution_count": 29,
   "id": "eb8a3f51",
   "metadata": {},
   "outputs": [
    {
     "data": {
      "text/plain": [
       "84"
      ]
     },
     "execution_count": 29,
     "metadata": {},
     "output_type": "execute_result"
    }
   ],
   "source": [
    "def test(a):\n",
    "    return a[1]\n",
    "\n",
    "test([201801, 84, 73])"
   ]
  },
  {
   "cell_type": "code",
   "execution_count": null,
   "id": "34edc600",
   "metadata": {},
   "outputs": [],
   "source": []
  }
 ],
 "metadata": {
  "kernelspec": {
   "display_name": "Python 3 (ipykernel)",
   "language": "python",
   "name": "python3"
  },
  "language_info": {
   "codemirror_mode": {
    "name": "ipython",
    "version": 3
   },
   "file_extension": ".py",
   "mimetype": "text/x-python",
   "name": "python",
   "nbconvert_exporter": "python",
   "pygments_lexer": "ipython3",
   "version": "3.10.9"
  }
 },
 "nbformat": 4,
 "nbformat_minor": 5
}
