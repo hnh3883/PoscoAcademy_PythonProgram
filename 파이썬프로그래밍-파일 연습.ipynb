{
 "cells": [
  {
   "cell_type": "code",
   "execution_count": 27,
   "id": "3bda07a2",
   "metadata": {},
   "outputs": [],
   "source": [
    "f = open(\"newnew.txt\", \"w\")  # newnew.txt 파일을 write 모드로 열기\n",
    "\n",
    "for i in range(1, 6):   # 1~6까지 반복\n",
    "    data = \"%d line\\n\" % i  # i \"line\" 이 data 변수에 담김 \n",
    "    f.write(data)  # data 값을 f에 작성해줌\n",
    "\n",
    "f.close()  # f 변수 닫아줌"
   ]
  },
  {
   "cell_type": "code",
   "execution_count": 2,
   "id": "eb784319",
   "metadata": {},
   "outputs": [],
   "source": [
    "f = open(\"newnew.txt\", \"w\")\n",
    "\n",
    "for i in range(1, 6):\n",
    "    f.write(str(i)+ \" line\\n\" )\n",
    "\n",
    "f.close()"
   ]
  },
  {
   "cell_type": "code",
   "execution_count": 3,
   "id": "7bbfb1f1",
   "metadata": {},
   "outputs": [],
   "source": [
    "with open(\"newnew.txt\", \"w\") as fw:  # 파일이 오픈된 채로 작업 (close 해줄 필요없음)\n",
    "    for i in range(1,8):\n",
    "        data = \"%d line\\n\" %i\n",
    "        fw.write(data) # write로 작성하기"
   ]
  },
  {
   "cell_type": "code",
   "execution_count": 33,
   "id": "0f26112e",
   "metadata": {},
   "outputs": [],
   "source": [
    "fr = open(\"newnew.txt\", \"r\") # r: read 모드로 열어줌"
   ]
  },
  {
   "cell_type": "code",
   "execution_count": 34,
   "id": "9fe71737",
   "metadata": {},
   "outputs": [
    {
     "data": {
      "text/plain": [
       "'1 line\\n'"
      ]
     },
     "execution_count": 34,
     "metadata": {},
     "output_type": "execute_result"
    }
   ],
   "source": [
    "line = fr.readline()  #  줄 단위로 읽어들임 \n",
    "line "
   ]
  },
  {
   "cell_type": "code",
   "execution_count": 35,
   "id": "e7a80a9e",
   "metadata": {},
   "outputs": [
    {
     "data": {
      "text/plain": [
       "7"
      ]
     },
     "execution_count": 35,
     "metadata": {},
     "output_type": "execute_result"
    }
   ],
   "source": [
    "fr.tell() # 현재 파일 포인터의 위치 반환"
   ]
  },
  {
   "cell_type": "code",
   "execution_count": 36,
   "id": "cee49a62",
   "metadata": {},
   "outputs": [
    {
     "data": {
      "text/plain": [
       "12"
      ]
     },
     "execution_count": 36,
     "metadata": {},
     "output_type": "execute_result"
    }
   ],
   "source": [
    "fr.seek(12) # 지정하는 곳으로 포인터의 위치를 변경"
   ]
  },
  {
   "cell_type": "code",
   "execution_count": 54,
   "id": "0d38286f",
   "metadata": {},
   "outputs": [],
   "source": [
    "fr.close()"
   ]
  },
  {
   "cell_type": "code",
   "execution_count": 29,
   "id": "1411594d",
   "metadata": {},
   "outputs": [
    {
     "name": "stdout",
     "output_type": "stream",
     "text": [
      "1 line\n",
      "2 line\n",
      "3 line\n",
      "4 line\n",
      "5 line\n"
     ]
    }
   ],
   "source": [
    "fr = open(\"newnew.txt\", \"r\")   # newnew.txt 파일을 read 모드로 열기\n",
    "while True :  # 반복문 계속 돌림\n",
    "    line = fr.readline()   # line에 한 줄씩 계속 넣어줌\n",
    "    if line == \"\":  # 첫 줄 부터 마지막 줄까지 다 돌았다면 line ==\"\" 일 것이고, 그 때 반복문 탈출 \n",
    "        break  \n",
    "    print(line, end=\"\")\n",
    "\n",
    "fr.close()"
   ]
  },
  {
   "cell_type": "markdown",
   "id": "ea30687a",
   "metadata": {},
   "source": [
    "### 실습 1"
   ]
  },
  {
   "cell_type": "code",
   "execution_count": 56,
   "id": "ef54b7cb",
   "metadata": {},
   "outputs": [
    {
     "name": "stdout",
     "output_type": "stream",
     "text": [
      "Enter a file name : test.txt\n",
      "FISRT LINE\n",
      "SECOND LINE\n",
      "HAVE A NICE DAY"
     ]
    }
   ],
   "source": [
    "import os \n",
    "\n",
    "filename = input(\"Enter a file name : \")  # 값을 받아옴\n",
    "\n",
    "if os.path.exists(filename) == True:  # 만약에 파일이 존재한다면\n",
    "    fr = open(filename, \"r\")   # fr 변수에 read 타임으로 파일을 open 한다.\n",
    "    while True :  # true 이면 계속해서 반복\n",
    "        line = fr.readline()  # line 변수에 한 줄을 넣어준다 => 이게 반복문을 통해 계속 다음 줄로 넘어감\n",
    "        a = line.upper()  # line 변수에 저장된 값을 대문자로 변환\n",
    "        if line == \"\":  # 반복문이 모든 줄을 다 읽어들이면 line 변수는 \"\" 값을 가진 상황일텐데, 이때가 되면 반복문 종료\n",
    "            break  # 반복문 탈출\n",
    "        print(a, end=\"\")  # a를 반복하여 출력\n",
    "    fr.close()  # open() 했던거 닫아줌\n",
    "else:   # 만약 파일이 존재하지 않으면 해당 문구 출력\n",
    "    print(\"파일이 존재하지 않는다\")"
   ]
  },
  {
   "cell_type": "code",
   "execution_count": 26,
   "id": "5c4c291f",
   "metadata": {},
   "outputs": [
    {
     "name": "stdout",
     "output_type": "stream",
     "text": [
      "Enter a file name : test.txt\n",
      "FISRT LINE\n",
      "SECOND LINE\n",
      "HAVE A NICE DAY"
     ]
    }
   ],
   "source": [
    "import os\n",
    "\n",
    "filename = input(\"Enter a file name : \")  # 값을 받아옴\n",
    "\n",
    "if os.path.exists(filename) == True:  # 만약에 파일이 존재한다면\n",
    "    fr = open(filename, \"r\")   # fr 변수에 read 타임으로 파일을 open 한다.\n",
    "    list_a = fr.readlines()  # readline 말고 readlines를 쓰면 list 형태로 각 줄을 다 받아옴\n",
    "\n",
    "    for i in list_a:  # list_a의 원소 처음부터 끝까지 반복\n",
    "        a = i.upper()  # 각 원소를 대문자로 변경\n",
    "        print(a,end=\"\")  #값을 출력\n",
    "    fr.close()\n",
    "else:\n",
    "    print(\"파일이 존재하지 않는다\")"
   ]
  },
  {
   "cell_type": "code",
   "execution_count": 107,
   "id": "0eae7afc",
   "metadata": {},
   "outputs": [
    {
     "name": "stdout",
     "output_type": "stream",
     "text": [
      "202301 83.5(B)\n",
      "202302 80.0(B)\n",
      "202303 54.5(F)\n",
      "202304 77.0(C)\n",
      "202305 98.5(A)\n"
     ]
    }
   ],
   "source": [
    "score_a = open(\"score.txt\", \"r\")\n",
    "\n",
    "report_a = open(\"report.txt\", \"w\") \n",
    "\n",
    "def grade(a):  # 성적대로 학점부여하는 함수 구현\n",
    "    if a >= 90:\n",
    "        return \"(A)\"\n",
    "    elif a>= 80:\n",
    "        return \"(B)\"\n",
    "    elif a>= 70:\n",
    "        return \"(C)\"        \n",
    "    elif a>= 60:\n",
    "        return \"(D)\"\n",
    "    else :\n",
    "        return \"(F)\"\n",
    "\n",
    "while True: \n",
    "    list_a = score_a.readline()  # 각 줄을 list_a에 담아줌\n",
    "    list_slice_a = list_a.split() # list_a 에서 split 해서 원소들을 분리해줌\n",
    "    if list_a == \"\":  # 마지막 줄까지 다 돌았으면 반복문 탈출\n",
    "        break\n",
    "    avg = (int(list_slice_a[1]) + int(list_slice_a[2]))/2  # 평균 계산\n",
    "    \n",
    "    aaa = str(list_slice_a[0]) + \" \"+ str(avg) + str(grade(avg))  # 원소들을 이어붙이기\n",
    "    \n",
    "    report_a.write(aaa) # report_a 에 작성해주기\n",
    "    report_a.write(\"\\n\") # 줄 바꿔주기\n",
    "    print(aaa)   #출력\n",
    "\n",
    "report_a.close()   "
   ]
  },
  {
   "cell_type": "code",
   "execution_count": 3,
   "id": "6df05fd9",
   "metadata": {},
   "outputs": [],
   "source": [
    "f = open(\"12431243.txt\", \"w\")  # newnew.txt 파일을 write 모드로 열기\n",
    "\n",
    "f.write(\"rkskek\")  # data 값을 f에 작성해줌\n",
    "\n",
    "f.close()  # f 변수 닫아줌"
   ]
  },
  {
   "cell_type": "code",
   "execution_count": 7,
   "id": "0e27abec",
   "metadata": {},
   "outputs": [
    {
     "name": "stdout",
     "output_type": "stream",
     "text": [
      "rkskek\n"
     ]
    }
   ],
   "source": [
    "f = open(\"12431243.txt\", \"r\") # read 모드로 오픈\n",
    "aa = f.readline()  # f의 값을 읽어들인 값을 aa에 저장\n",
    "print(aa)"
   ]
  },
  {
   "cell_type": "code",
   "execution_count": 11,
   "id": "fd7e59bc",
   "metadata": {},
   "outputs": [
    {
     "name": "stdout",
     "output_type": "stream",
     "text": [
      "# show\n",
      "show\n"
     ]
    }
   ],
   "source": [
    "input_command = input(\"# \")\n",
    "input_command = input_command.lower()\n",
    "\n",
    "def command_show(a):\n",
    "    print(a)\n",
    "\n",
    "def command_search(a):\n",
    "    print(a)\n",
    "\n",
    "def command_changescore(a):\n",
    "    print(a)\n",
    "\n",
    "if input_command == \"show\" :\n",
    "    command_show(input_command)\n",
    "elif input_command == \"search\" :\n",
    "    command_search(input_command)\n",
    "elif input_command == \"changescore\" :\n",
    "    command_changescore(input_command)\n",
    "\n"
   ]
  },
  {
   "cell_type": "code",
   "execution_count": 14,
   "id": "d4e8cc1a",
   "metadata": {},
   "outputs": [],
   "source": [
    "my_dict = {}  # 빈 딕셔너리 생성\n",
    "my_dict[\"key1\"] = [\"1\", \"2\"]\n"
   ]
  },
  {
   "cell_type": "code",
   "execution_count": 18,
   "id": "3e9e9e60",
   "metadata": {},
   "outputs": [
    {
     "data": {
      "text/plain": [
       "2"
      ]
     },
     "execution_count": 18,
     "metadata": {},
     "output_type": "execute_result"
    }
   ],
   "source": [
    "len(my_dict[\"key1\"])"
   ]
  },
  {
   "cell_type": "code",
   "execution_count": 17,
   "id": "5f5ae9be",
   "metadata": {},
   "outputs": [
    {
     "data": {
      "text/plain": [
       "['1', '2']"
      ]
     },
     "execution_count": 17,
     "metadata": {},
     "output_type": "execute_result"
    }
   ],
   "source": [
    "type(my_dict[\"key1\"])\n",
    "\n",
    "my_dict[\"key1\"]\n"
   ]
  },
  {
   "cell_type": "code",
   "execution_count": 20,
   "id": "a6fe18fb",
   "metadata": {},
   "outputs": [
    {
     "name": "stdout",
     "output_type": "stream",
     "text": [
      "('key1', ['1', '2'])\n"
     ]
    }
   ],
   "source": [
    "for key in my_dict.items():\n",
    "    print(key)"
   ]
  },
  {
   "cell_type": "code",
   "execution_count": 22,
   "id": "18992019",
   "metadata": {},
   "outputs": [],
   "source": [
    "my_dict = {'apple': [3,0,1,3], 'banana': [2,0,2,4], 'orange': [5,0,6,7]}"
   ]
  },
  {
   "cell_type": "code",
   "execution_count": 23,
   "id": "3901e164",
   "metadata": {},
   "outputs": [],
   "source": [
    "my_dict = {'apple': [3,0], 'banana': [2,0], 'orange': [5,0]}"
   ]
  },
  {
   "cell_type": "code",
   "execution_count": 24,
   "id": "e4aeff81",
   "metadata": {},
   "outputs": [],
   "source": [
    "aaa = [20180000, [1,2,3,4]\n",
    "      20190000, [5,6,7,8]\n",
    "      20200000, [9,2,3,4]]"
   ]
  },
  {
   "cell_type": "code",
   "execution_count": null,
   "id": "ce3d9772",
   "metadata": {},
   "outputs": [],
   "source": []
  }
 ],
 "metadata": {
  "kernelspec": {
   "display_name": "Python 3 (ipykernel)",
   "language": "python",
   "name": "python3"
  },
  "language_info": {
   "codemirror_mode": {
    "name": "ipython",
    "version": 3
   },
   "file_extension": ".py",
   "mimetype": "text/x-python",
   "name": "python",
   "nbconvert_exporter": "python",
   "pygments_lexer": "ipython3",
   "version": "3.10.9"
  }
 },
 "nbformat": 4,
 "nbformat_minor": 5
}
